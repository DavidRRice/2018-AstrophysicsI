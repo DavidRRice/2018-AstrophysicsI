{
 "cells": [
  {
   "cell_type": "markdown",
   "metadata": {},
   "source": [
    "# David R. Rice\n",
    " ### Ast 713  |  HW 6\n",
    " \n",
    "### Ch. 7 Prob. 4\n",
    "### Ch. 8 Prob. 3"
   ]
  },
  {
   "cell_type": "markdown",
   "metadata": {},
   "source": [
    "## 7.4\n",
    "\n",
    "\n",
    "Probability is product of\n",
    "1. target density\n",
    "2. Cross section of lense\n",
    "3. Distance of observer to source\n",
    "\n",
    "$n=\\frac{M_{tot}}{M_{average}*volume}=\\frac{5\\times10^{10}M_\\odot}{0.5 M_{\\odot}\\pi 8^2kpc^2 1kpc}=5\\times10^8kpc^{-3}$\n",
    "\n",
    "Assuming distance to lense is on average half of the distance from us to center of galaxy\n",
    "\n",
    "$\\sigma=\\pi\\theta^2_ED^2_{ol}=4\\pi (6.7\\times10^{-8}) \\cdot 0.5(2.0\\times10^{33})\\cdot4(3.1\\times10^{21})/(3.0\\times10^{10})^2=1.16\\times10^28/(3.1\\times10^21)^2=1.2\\times10^{-15}kpc^2$\n",
    "\n",
    "$P=n\\sigma D_{os}=5\\times10^8*1.2\\times10^{-15}*8=4.8\\times10^{-6}$\n",
    "\n",
    "I got exactly double the book answer. I'm not sure where the 1/2 is missing. $P=2.4\\times10^{-6}$"
   ]
  },
  {
   "cell_type": "markdown",
   "metadata": {},
   "source": [
    "## 8.3\n",
    "\n",
    "### a)\n",
    "\n",
    "Sunyaev-Zeldovich Effect\n",
    "\n",
    "0.001 of photons scattered, M_cluster=2x10^14, 15% hot gas fully ionized\n",
    "\n",
    "cross section thomson ~ cross section of compton\n",
    "\n",
    "$n=\\frac{0.15*M}{m_H*4\\pi/3*R^3}$\n",
    "\n",
    "$\\frac{n}{0.001}=\\frac{1}{\\sigma_C*2R}$\n",
    "\n",
    "$R^2=\\frac{6*0.15M*\\sigma_T}{m_H*4\\pi*0.001}$\n",
    "\n",
    "$R=\\left(\\frac{6*0.15*2\\times10^{14}*2.0\\times10^{33}*6.7\\times10^{-25}}{1.7\\times10^{-24}*4\\pi*0.001}\\right)^{1/2}$\n",
    "\n",
    "$R=3.4\\times10^{24}cm=1.1Mpc$\n",
    "\n",
    "$D=2.2Mpc$"
   ]
  },
  {
   "cell_type": "markdown",
   "metadata": {},
   "source": [
    "### b)\n",
    "\n",
    "$D=R/\\theta=1.1Mpc*57^o/0.5^o=125Mpc$"
   ]
  },
  {
   "cell_type": "markdown",
   "metadata": {},
   "source": [
    "### c)\n",
    "\n",
    "$H_0=8400/125= 67\\space km\\space s^{-1}\\space Mpc$"
   ]
  },
  {
   "cell_type": "code",
   "execution_count": null,
   "metadata": {
    "collapsed": true
   },
   "outputs": [],
   "source": []
  }
 ],
 "metadata": {
  "kernelspec": {
   "display_name": "Python 3",
   "language": "python",
   "name": "python3"
  },
  "language_info": {
   "codemirror_mode": {
    "name": "ipython",
    "version": 3
   },
   "file_extension": ".py",
   "mimetype": "text/x-python",
   "name": "python",
   "nbconvert_exporter": "python",
   "pygments_lexer": "ipython3",
   "version": "3.6.3"
  }
 },
 "nbformat": 4,
 "nbformat_minor": 2
}
