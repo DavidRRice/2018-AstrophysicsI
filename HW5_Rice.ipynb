{
 "cells": [
  {
   "cell_type": "markdown",
   "metadata": {},
   "source": [
    "# David R. Rice\n",
    " ### Ast 713  |  HW 5"
   ]
  },
  {
   "cell_type": "markdown",
   "metadata": {},
   "source": [
    "## Ch 4 | Problem 5\n",
    "\n",
    "### a)\n",
    "\n",
    "$\\frac{dE_{rot}}{dt}\\propto\\omega^6$\n",
    "\n",
    "Classical Rotational Energy $E=\\frac{1}{2}I\\omega^2$\n",
    "\n",
    "Chain rule: $dE/dt=I\\omega\\frac{d\\omega}{dt}$\n",
    "\n",
    "If proportional to omega^6 then:\n",
    "\n",
    "$\\frac{d\\omega}{dt}=C\\omega^5$\n",
    "\n",
    "$C=\\dot{\\omega_{p}}/\\omega_{p}^5$ Present omega\n",
    "\n",
    "Analogous to equation 4.104 by separating variables\n",
    "\n",
    "$dt= 1/C\\cdot1/\\omega^5d\\omega$\n",
    "\n",
    "$t_{pular}=\\frac{\\omega_p^5}{4\\dot{\\omega_p}}\\left(\\frac{1}{\\omega^4}-\\frac{1}{\\omega_i^4}\\right)$\n",
    "\n",
    "\n",
    "### b)\n",
    "\n",
    "Upper limit omega=omega_p and omega_i=inf\n",
    "\n",
    "From Wikipedia w_p=33.5ms   wdot=38 nanoseconds/day\n",
    "\n",
    "$t<\\frac{33.5\\times10^{-3}}{4\\cdot38\\times10^{-9}\\cdot365}=598$ years\n",
    "\n",
    "No not viable since age is almost twice the maximum time from graviational radiation"
   ]
  },
  {
   "cell_type": "markdown",
   "metadata": {},
   "source": [
    "## Ch 5 | Problem 2\n",
    "\n",
    "### a)\n",
    "\n",
    "Total mass $\\int_{0.4}^{100}m^{-2.35}dm$ (everything in terms of solar mass)\n",
    "\n",
    "fraction of >8 $\\frac{\\int_{8}^{100}m^{-2.35}dm}{\\int_{0.4}^{100}m^{-2.35}dm}=\\frac{0.043}{2.55}=0.017$\n",
    "\n",
    "$0.017\\times10^{11}=1.7\\times10^9$ high mass that are now remnants \n",
    "\n",
    "$1.7\\times10^9*1.4M_{\\odot}=2.4\\times10^9M_\\odot$"
   ]
  },
  {
   "cell_type": "markdown",
   "metadata": {},
   "source": [
    "### b)\n",
    "\n",
    "$\\frac{1.7\\times10^{9}\\times0.05M_\\odot}{5\\times10^{10}M_\\odot}=1.7\\times10^{-3}$\n",
    "\n",
    "Matches closely to the sun's iron fraction. So the first-generation had already given off this iron abundance which the sun then formed from.\n"
   ]
  },
  {
   "cell_type": "markdown",
   "metadata": {},
   "source": [
    "### c)\n",
    "\n",
    "Probability of two same events occuring that are independent (altho star formation of binaries is probably not independent at all) is probability of one squared. Ex. Probability of two heads (1/2)*(1/2)=1/4\n",
    "\n",
    "Fraction=0.017\n",
    "\n",
    "$0.017^2=0.00289$\n",
    "\n",
    "$0.00289*10^{11}=2.89\\times10^7/4=7.2\\times10^6$ binaries of high mass"
   ]
  },
  {
   "cell_type": "markdown",
   "metadata": {},
   "source": [
    "### d)\n",
    "\n",
    "GE=2*KE\n",
    "\n",
    "$G(8)(8)/r=2*1/2*1.4*(500\\times10^5)^2$\n",
    "\n",
    "$r= 7.9\\times10^{-7}pc$"
   ]
  },
  {
   "cell_type": "markdown",
   "metadata": {},
   "source": [
    "### e)\n",
    "\n",
    "Probability of less than separation from d)\n",
    "\n",
    "$7.9\\times10^{-7}pc/0.01pc= 7.9\\times10^{-5}$\n",
    "\n",
    "$7.9\\times10^{-5}\\cdot7.2\\times10^{6}=568$ remnant binaries\n",
    "\n",
    "Not very many considering we already found multiple binary mergers with gravitational waves. "
   ]
  },
  {
   "cell_type": "code",
   "execution_count": null,
   "metadata": {
    "collapsed": true
   },
   "outputs": [],
   "source": []
  }
 ],
 "metadata": {
  "kernelspec": {
   "display_name": "Python 3",
   "language": "python",
   "name": "python3"
  },
  "language_info": {
   "codemirror_mode": {
    "name": "ipython",
    "version": 3
   },
   "file_extension": ".py",
   "mimetype": "text/x-python",
   "name": "python",
   "nbconvert_exporter": "python",
   "pygments_lexer": "ipython3",
   "version": "3.6.3"
  }
 },
 "nbformat": 4,
 "nbformat_minor": 2
}
