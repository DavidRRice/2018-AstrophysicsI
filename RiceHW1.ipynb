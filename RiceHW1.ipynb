{
 "cells": [
  {
   "cell_type": "markdown",
   "metadata": {},
   "source": [
    "# David R. Rice\n",
    " Ast 713\n",
    " HW 1"
   ]
  },
  {
   "cell_type": "markdown",
   "metadata": {
    "collapsed": true
   },
   "source": [
    "# In Class Lec 1: Base Line of Event Horizon Telescope\n",
    "\n",
    "$M_{sagA*}=4\\times10^{6}M_{\\odot}$   \n",
    "\n",
    "$D_{center}=8kpc$\n",
    "\n",
    "$R_{sh}=2GM/c^{2}=3km\\frac{M}{M_{\\odot}}$\n",
    "\n",
    "$R_{sagA*}\\approx12\\times10^{6}km\\approx8\\times10^{-2}AU$\n",
    "\n",
    "Radio Telescopes $\\lambda\\approx1mm=1\\times10^{-6}km$\n",
    "\n",
    "$\\theta\\approx\\frac{R}{D}\\approx\\frac{8\\times10^{-2}AU}{8\\times10^{3}pc}\\approx1\\times10^{-5\"}$\n",
    "\n",
    "$1\"=4.8\\times10^{-6}rad$\n",
    "\n",
    "$\\theta=4.8\\times10^{-11}rad$\n",
    "\n",
    "$L=\\frac{\\lambda}{\\theta}=\\frac{1\\times10^{-6}km}{4.8\\times10^{-11}}=20,000km$"
   ]
  },
  {
   "cell_type": "markdown",
   "metadata": {},
   "source": [
    "### Compared to Diameter of Earth\n",
    "\n",
    "$\\frac{L}{D_{\\oplus}}=\\frac{20,000km}{12,000km}$\n",
    "\n",
    "$L_{EH}=1.7D_{\\oplus}$\n"
   ]
  },
  {
   "cell_type": "markdown",
   "metadata": {
    "collapsed": true
   },
   "source": [
    "# HW 1: Chap.1 Prob. 2:\n",
    "\n",
    "## a.)\n",
    "\n",
    "$A=\\pi R^{2}$\n",
    "\n",
    "$Signal = N_{*}$\n",
    "\n",
    "$Noise = \\sqrt{N_*+\\pi R^2 n_{sky}}$\n",
    "\n",
    "$\\frac{S}{N}=\\frac{N_{*}}{\\sqrt{N_{*}+\\pi R^{2}N_{sky}}}$"
   ]
  },
  {
   "cell_type": "markdown",
   "metadata": {},
   "source": [
    "## b.)\n",
    "\n",
    "$\\frac{A_{b}}{A_{a}}=100$  | signal increases by 100 times\n",
    "\n",
    "$\\frac{S}{N}=\\frac{100N_{*}}{\\sqrt{100N_{*}+\\pi (R/3)^{2}N_{sky}}}=\\frac{10N_{*}}{\\sqrt{N_{*}+\\pi (R^{2}/9)N_{sky}}}$"
   ]
  },
  {
   "cell_type": "markdown",
   "metadata": {},
   "source": [
    "## c.)\n",
    "\n",
    "star dominated\n",
    "\n",
    "$\\frac{S}{N}=\\frac{N_{*}t}{\\sqrt{N_{*}t}}\\propto \\sqrt{t}$\n",
    "\n",
    "sky dominated\n",
    "\n",
    "$\\frac{S}{N}=\\frac{N_{*}t}{\\sqrt{\\pi R^{2}N_{sky}t}}\\propto \\sqrt{t}$"
   ]
  },
  {
   "cell_type": "markdown",
   "metadata": {},
   "source": [
    "## d.)\n",
    "\n",
    "a=10m b=100m  (refering to parts a. and b.)\n",
    "\n",
    "##### star dominated  \n",
    "\n",
    "$\\left(\\frac{S}{N}\\right)_{b}=\\frac{10N_{*}}{\\sqrt{N_{*}}}=10\\left(\\frac{S}{N}\\right)_{a}$\n",
    "\n",
    "from proportionality in c.)\n",
    "\n",
    "$t_{a}=100t_{b}$\n",
    "\n",
    "Time increased by a factor of 100 to achieve same signal to noise of 100m\n",
    "\n",
    "##### sky dominated\n",
    "\n",
    "$\\left(\\frac{S}{N}\\right)_{b}=\\frac{10N_{*}}{\\sqrt{\\pi (R^{2}/9)N_{sky}}}=\\frac{30N_{*}}{\\sqrt{\\pi (R^{2})N_{sky}}}=30\\left(\\frac{S}{N}\\right)_{a}$\n",
    "\n",
    "from proportionality in c.)\n",
    "\n",
    "$t_{a}=900t_{b}$\n",
    "\n",
    "Time increased by a factor of 900 to achieve same signal to noise of 100m"
   ]
  },
  {
   "cell_type": "code",
   "execution_count": null,
   "metadata": {
    "collapsed": true
   },
   "outputs": [],
   "source": []
  }
 ],
 "metadata": {
  "kernelspec": {
   "display_name": "Python 3",
   "language": "python",
   "name": "python3"
  },
  "language_info": {
   "codemirror_mode": {
    "name": "ipython",
    "version": 3
   },
   "file_extension": ".py",
   "mimetype": "text/x-python",
   "name": "python",
   "nbconvert_exporter": "python",
   "pygments_lexer": "ipython3",
   "version": "3.6.3"
  }
 },
 "nbformat": 4,
 "nbformat_minor": 2
}
