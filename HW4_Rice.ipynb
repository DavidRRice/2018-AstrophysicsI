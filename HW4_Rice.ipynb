{
 "cells": [
  {
   "cell_type": "markdown",
   "metadata": {},
   "source": [
    "# David R. Rice\n",
    " ### Ast 713  |  HW 4"
   ]
  },
  {
   "cell_type": "markdown",
   "metadata": {},
   "source": [
    "## Ch 4 | Problem 1"
   ]
  },
  {
   "cell_type": "markdown",
   "metadata": {},
   "source": [
    "### a)\n",
    "\n",
    "$p_f=\\sqrt{2m_eE_f}$\n",
    "\n",
    "$E_f=p_f^2/2m_e$\n",
    "\n",
    "$p_f=\\left(\\frac{3h^3n_e}{8\\pi}\\right)^{1/3}$\n",
    "\n",
    "$E_f=\\frac{1}{2m_e}\\left(\\frac{3h^3n_e}{8\\pi}\\right)^{2/3}$"
   ]
  },
  {
   "cell_type": "markdown",
   "metadata": {},
   "source": [
    "### b)\n",
    "\n",
    "Typical white drawf T=10^7K, helium\n",
    "\n",
    "For helium: $n_e=\\rho/2m_p=10^6g cm^{-3}/2\\times 1.7 \\times 10^{-24}g=3\\times10^{29}cm^{-3}$\n",
    "\n",
    "From a) with plank constant and mass of electon\n",
    "\n",
    "$E_f=2.60\\times10^{-7}erg$\n",
    "\n",
    "$E_{th}=3/2kT=2.1\\times10^{-9}erg$\n",
    "\n",
    "$E_{th}/E_f=0.008$ \n",
    "\n",
    "Thermal energy 2 orders smaller than fermi energy."
   ]
  },
  {
   "cell_type": "markdown",
   "metadata": {},
   "source": [
    "## Problem 4"
   ]
  },
  {
   "cell_type": "markdown",
   "metadata": {},
   "source": [
    "Thermonuclear explosions of accreting white drawfs near Chandrasekhar limit\n",
    "\n",
    "### a)\n",
    "\n",
    "$\\bar{P}=-1/3 E_{gr}/V$\n",
    "\n",
    "$\\bar{P}=-\\frac{1}{3}\\frac{GM^2}{RV}$\n"
   ]
  },
  {
   "cell_type": "markdown",
   "metadata": {},
   "source": [
    "### b)\n",
    "\n",
    "$v_s=\\sqrt{P/\\rho}=\\sqrt{\\frac{GM^2}{RV}\\frac{V}{M}}=\\sqrt{GM/R}$\n",
    "\n",
    "$\\tau=R/v_s=1/\\sqrt{G\\rho}$\n",
    "\n",
    "$\\rho=M/V=M/(4/3)\\pi R^3=10^6 g cm^{-3}$\n",
    "\n",
    "$\\tau=1/\\sqrt{6.7\\times10^{-8}\\times 10^6 g cm^{-3}} = 3.9s$"
   ]
  },
  {
   "cell_type": "markdown",
   "metadata": {},
   "source": [
    "### c)\n",
    "\n",
    "0.1% of rest mass  converted to nuclear energy\n",
    "\n",
    "$E_{exp}=0.001\\times1.4M_\\odot\\times c^2=0.001\\cdot 1.4\\cdot 2\\times 10^33g\\cdot 9\\times10^20= 2.52\\times10^{51}erg$\n",
    "\n",
    "$E_g=GMM/R=5\\times10^{50}erg$\n",
    "\n",
    "Energy of nuclear one order of magnitude greater than gravitational energy leaving no remnant."
   ]
  },
  {
   "cell_type": "markdown",
   "metadata": {},
   "source": [
    "### d)\n",
    "\n",
    "Luminosity=energy/time\n",
    "\n",
    "Nuclear energy from rest mass to energy conversion\n",
    "\n",
    "$\\eta=1-\\frac{A_{Ni}}{A_{Fe}}=1.3\\times10^{-4}$\n",
    "\n",
    "$L=\\frac{\\eta M c^2}{\\tau_{Ni}-\\tau_{Co}}=3.3\\times10^{43}erg s^{-1}/3.8\\times10^{33}=8.8\\times10^9L_{\\odot}$"
   ]
  },
  {
   "cell_type": "code",
   "execution_count": null,
   "metadata": {
    "collapsed": true
   },
   "outputs": [],
   "source": []
  }
 ],
 "metadata": {
  "kernelspec": {
   "display_name": "Python 3",
   "language": "python",
   "name": "python3"
  },
  "language_info": {
   "codemirror_mode": {
    "name": "ipython",
    "version": 3
   },
   "file_extension": ".py",
   "mimetype": "text/x-python",
   "name": "python",
   "nbconvert_exporter": "python",
   "pygments_lexer": "ipython3",
   "version": "3.6.3"
  }
 },
 "nbformat": 4,
 "nbformat_minor": 2
}
