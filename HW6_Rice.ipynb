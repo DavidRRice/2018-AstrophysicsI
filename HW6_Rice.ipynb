{
 "cells": [
  {
   "cell_type": "markdown",
   "metadata": {},
   "source": [
    "# David R. Rice\n",
    " ### Ast 713  |  HW 6\n",
    " \n",
    "### Ch5 4a, 5, 6"
   ]
  },
  {
   "cell_type": "markdown",
   "metadata": {},
   "source": [
    "## Prob 4\n",
    "\n",
    "### a)\n",
    "\n",
    "Shocks in low density (high mfp ISM) Free electrons and protons show the cross section.\n",
    "\n",
    "Radius where electrostatic potential energy is equal to kinetic energy\n",
    "\n",
    "$(1/2)Q^2/R=3/2kT$\n",
    "\n",
    "$r\\sim e^2/kT$\n",
    "\n",
    "cross section area of radius where energy is equal\n",
    "\n",
    "$\\sigma\\sim \\pi e^4/(kT)^2$\n",
    "\n",
    "What is mean free path when T=10^4K and n=1cm^-3?\n",
    "\n",
    "$l_{mfp}=1/(n\\sigma)=\\frac{k^2T^2}{\\pi e^4n}= 1.2\\times10^{21}$\n",
    "\n",
    "$(\\sigma=8.4\\times10^{-22})$"
   ]
  },
  {
   "cell_type": "markdown",
   "metadata": {},
   "source": [
    "## Prob 5\n",
    "\n",
    "### a)\n",
    "\n",
    "gamma=5/3 strong shock ratios of energy per unit mass\n",
    "\n",
    "Thermal Energy $\\epsilon=1/(\\gamma-1)\\cdot kT/\\bar{m}$\n",
    "\n",
    "$T=2(\\gamma-1)/(\\gamma+1)^2\\cdot \\bar{m}v^2/k$\n",
    "\n",
    "$KE=v_o^2$\n",
    "\n",
    "$\\frac{\\epsilon}{KE}=\\frac{2}{(\\gamma+1)^2}$\n",
    "\n",
    "### b)\n",
    "\n",
    "$\\rho_1/\\rho_0=v_0/v_1$\n",
    "\n",
    "$\\rho_1/\\rho0=(\\gamma+1)/(\\gamma-1)$\n",
    "\n",
    "$\\frac{v_1^2}{v_0^2}=\\left(\\frac{\\gamma-1}{\\gamma+1}\\right)^2$\n",
    "\n",
    "### c)\n",
    "\n",
    "$v/v_0=\\frac{2(P_1-P_0)}{(\\gamma+1)P_1+(\\gamma-1)P_0}$\n",
    "\n",
    "For strong shock P1>>P0\n",
    "\n",
    "$v/v_0=\\frac{2}{\\gamma+1}$\n",
    "\n",
    "$v^2/v_0^2=\\left(\\frac{2}{\\gamma+1}\\right)^2$"
   ]
  },
  {
   "cell_type": "markdown",
   "metadata": {},
   "source": [
    "## Prob 6\n",
    "\n",
    "### a)\n",
    "\n",
    "SNR1006 Fig 5.12 Forward Shock expanding 6000 km/s Synchrotron radiation of 4keV of 0.1pc width\n",
    "\n",
    "Width synchotron cooling time?\n",
    "\n",
    "$t_{cool}=4d/v_0=\\frac{4\\cdot0.1\\cdot3.1\\times10^18}{6\\times10^8}\\cdot1/(\\pi\\times10^7)=65.8 years$\n",
    "\n",
    "$4keV=0.29h\\nu_{sync}=0.29\\cdot6.6\\times10^{-27}\\cdot4.2\\cdot\\gamma^2B$\n",
    "\n",
    "$\\gamma B^2=10yr\\cdot1/t_{cool}$\n",
    "\n",
    "$\\gamma^2=1/6.5^2\\cdot1/B^4$\n",
    "\n",
    "$B^3=\\frac{0.29\\cdot6.6\\times10^{-27}\\cdot4.2\\times10^6}{6.5^2\\cdot4000\\cdot1.6\\times10^{-12}}$\n",
    "\n",
    "$B=30\\mu G$\n",
    "\n",
    "$\\gamma=1.7\\times10^8$"
   ]
  },
  {
   "cell_type": "markdown",
   "metadata": {},
   "source": [
    "### b)\n",
    "\n",
    "$\\gamma^2 \\propto E \\propto 1/t^2$\n",
    "\n",
    "Cooling time of 1eV is twice as long as those of 4eV\n",
    "\n",
    "Rim width then twice as thick\n",
    "\n",
    "d=0.2pc\n",
    "\n",
    "Another explanation could be changes in magnetic field. We assume magnetic field to be uniform, but could have step creating the cutoff in synchrotron emission"
   ]
  },
  {
   "cell_type": "code",
   "execution_count": null,
   "metadata": {
    "collapsed": true
   },
   "outputs": [],
   "source": []
  }
 ],
 "metadata": {
  "kernelspec": {
   "display_name": "Python 3",
   "language": "python",
   "name": "python3"
  },
  "language_info": {
   "codemirror_mode": {
    "name": "ipython",
    "version": 3
   },
   "file_extension": ".py",
   "mimetype": "text/x-python",
   "name": "python",
   "nbconvert_exporter": "python",
   "pygments_lexer": "ipython3",
   "version": "3.6.3"
  }
 },
 "nbformat": 4,
 "nbformat_minor": 2
}
