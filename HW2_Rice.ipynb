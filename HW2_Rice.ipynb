{
 "cells": [
  {
   "cell_type": "markdown",
   "metadata": {},
   "source": [
    "# David R. Rice\n",
    " ### Ast 713  |  HW 2"
   ]
  },
  {
   "cell_type": "markdown",
   "metadata": {},
   "source": [
    "## Lecture Question\n",
    "\n",
    "### Dust Mass in a Optically Thin Disk\n",
    "\n",
    "Known:\n",
    "Flux is 100mJy\n",
    "Radio Telescope 1mm\n",
    "Distance 100pc\n",
    "Temp 20 K\n",
    "dust s=1cm\n",
    "\n",
    "To Solve: $M=\\frac{F\\cdot D^{2}}{\\kappa_{\\nu}\\cdot S_{\\nu}}$\n",
    "\n",
    "Jenskys to cgs\n",
    "$F=100mJy\\times\\frac{1Jy}{1000mJy}\\times10^{-23}\\frac{erg}{s\\cdot cm^{2}\\cdot Hz}=1\\times10^{-24}\\frac{erg}{s\\cdot cm^{2}\\cdot Hz}$\n",
    "\n",
    "Distance to cgs\n",
    "$100pc\\cdot 3.1\\times10^{18}cm=3.1\\times10^{20}$\n",
    "\n",
    "$S_\\nu=B_\\nu=\\frac{2\\nu^2}{c^2}\\cdot \\kappa_{B} \\cdot T=2\\frac{1}{\\lambda^2}\\cdot \\kappa_{B} \\cdot T=2 \\cdot \\frac{1}{(0.1cm)^2} \\cdot 1.4\\times10^{-16}\\frac{erg}{K}\\cdot 20K=5.6\\times10^{-13}\\frac{g}{s^2}$\n",
    "\n",
    "$\\kappa_\\nu=\\frac{3}{4\\pi}\\frac{1}{\\rho_{sun} \\cdot s}=\\frac{3}{4\\pi}\\frac{1}{1\\frac{g}{cm^3}\\cdot 1cm}=0.239\\frac{cm^2}{g}$\n"
   ]
  },
  {
   "cell_type": "markdown",
   "metadata": {},
   "source": [
    "#### Put it together\n",
    "\n",
    "$M=\\left[1\\times10^{-24}\\frac{erg}{s\\cdot cm^{2}\\cdot Hz}*(3.1\\times10^{20}cm)^2\\right] \\bigg/ \\left[5.6\\times10^{-13}\\frac{g}{s^2}\\cdot 0.239\\frac{cm^2}{g}\\right]=7.18\\times10^{29}g$\n",
    "\n",
    "Dimensional Analysis $[g \\cdot cm^2/s^2][1/cm^2][cm^2]\\big/[cm^2/s^2]=[g]$\n",
    "\n",
    "$M_{dust}=7.18\\times10^{29}g/2.0\\times10^{33}=3.6\\times10^{-4}M_\\odot$"
   ]
  },
  {
   "cell_type": "markdown",
   "metadata": {},
   "source": [
    "## Book Problem\n",
    "## Ch 2  Num 4"
   ]
  },
  {
   "cell_type": "markdown",
   "metadata": {},
   "source": [
    "$v_1=100km/s$\n",
    "\n",
    "$v_2=200km/s$\n",
    "\n",
    "$T=2 days$"
   ]
  },
  {
   "cell_type": "markdown",
   "metadata": {},
   "source": [
    "### a) Mass Ratio\n",
    "\n",
    "Mass is inversly proportional to velocity\n",
    "\n",
    "$\\frac{M_2}{M_1}=\\frac{v_1}{v_2}=100\\frac{km}{s}/200\\frac{km}{s}=\\frac{1}{2}$"
   ]
  },
  {
   "cell_type": "markdown",
   "metadata": {},
   "source": [
    "### b.) M sin^3(i) for each star using Kepler's Law\n",
    "\n",
    "Eq 2.42: $(M_1+M_2)sin^3(i)=\\frac{T(v_1+v_2)^3}{2\\pi G}$\n",
    "\n",
    "2 days x 24 hour x3600 seconds = 172800 seconds\n",
    "\n",
    "$(M_1+M_2)sin^3(i)=\\frac{172800s(100\\times10^{5}+200\\times10^5\\frac{cm}{s})^3}{2\\pi 6.7\\times10^{-8}}=1.11\\times10^{34}g=5.54M_\\odot$\n",
    "\n",
    "$(2M_2+M_2)sin^3(i)=3M_2sin^3(i)=5.54M_\\odot$\n",
    "\n",
    "$M_2sin^3(i)=1.85M_\\odot$\n",
    "\n",
    "$M_1sin^3(i)=3.69M_\\odot$"
   ]
  },
  {
   "cell_type": "markdown",
   "metadata": {},
   "source": [
    "### c.) Mean Value of sin^3(i) and mass if at mean value\n",
    "\n",
    "$\\left<sin^3(i)\\right>=\\frac{1}{4\\pi}\\int_{0}^{2\\pi}\\int_{0}^{\\pi}sin^3(i)sin(i)d\\phi d\\theta=\\frac{1}{16}\\left[\\int_{0}^{\\pi}3-\\int_{0}^{\\pi}4cos(2i)+\\int_{0}^{\\pi}cos(4i)\\right]=\\frac{3\\pi}{16}$\n",
    "\n",
    "$M_2=1.85M_\\odot \\cdot \\frac{16}{3\\pi}=3.14M_\\odot$\n",
    "\n",
    "$M_1=3.69M_\\odot \\cdot \\frac{16}{3\\pi}=6.26M_\\odot$"
   ]
  },
  {
   "cell_type": "code",
   "execution_count": null,
   "metadata": {
    "collapsed": true
   },
   "outputs": [],
   "source": []
  }
 ],
 "metadata": {
  "kernelspec": {
   "display_name": "Python 3",
   "language": "python",
   "name": "python3"
  },
  "language_info": {
   "codemirror_mode": {
    "name": "ipython",
    "version": 3
   },
   "file_extension": ".py",
   "mimetype": "text/x-python",
   "name": "python",
   "nbconvert_exporter": "python",
   "pygments_lexer": "ipython3",
   "version": "3.6.3"
  }
 },
 "nbformat": 4,
 "nbformat_minor": 2
}
