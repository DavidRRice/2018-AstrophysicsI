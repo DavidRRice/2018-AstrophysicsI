{
 "cells": [
  {
   "cell_type": "markdown",
   "metadata": {},
   "source": [
    "# David R. Rice\n",
    " ### Ast 713  |  HW 3"
   ]
  },
  {
   "cell_type": "markdown",
   "metadata": {},
   "source": [
    "## Ch 3 | Problem 4\n",
    "\n"
   ]
  },
  {
   "cell_type": "markdown",
   "metadata": {
    "collapsed": true
   },
   "source": [
    "Radius = R\n",
    "\n",
    "rho = constant\n",
    "\n",
    "classical, nonrelativistic , ideal gas, fully ionized\n",
    "\n",
    "#of electrons = #of protons"
   ]
  },
  {
   "cell_type": "markdown",
   "metadata": {},
   "source": [
    "### a)\n",
    "\n",
    "HSE\n",
    "\n",
    "$\\frac{dP(r)}{dr}=-GM(r)\\rho/r^2$\n",
    "\n",
    "Need mass in terms of r from mass continuity\n",
    "\n",
    "$\\frac{dM(r)}{dr}=4\\pi r^2\\rho$\n",
    "\n",
    "$\\int dM(r)=\\int 4\\pi r^2 \\rho dr$\n",
    "\n",
    "$M(r)=\\frac{4\\pi}{3}r^3\\rho$\n",
    "\n",
    "Substitute into HSE\n",
    "\n",
    "$\\frac{dP(r)}{dr}=-\\frac{4\\pi}{3}Gr\\rho^2$\n",
    "\n",
    "$\\int_r^R dP(r) = -\\frac{4\\pi}{3}G\\rho^2 \\int_r^R r dr$\n",
    "\n",
    "with P(R)=0\n",
    "\n",
    "$-P(r)=-\\frac{2\\pi}{3}G\\rho^2(R^2-r^2)$\n",
    "\n",
    "$P(r)=\\frac{2\\pi}{3}G\\rho^2(R^2-r^2)$"
   ]
  },
  {
   "cell_type": "markdown",
   "metadata": {},
   "source": [
    "### b)\n",
    "\n",
    "Ideal gas\n",
    "\n",
    "P(r)=nkT where number of particles is given by density divided by mean particle mass\n",
    "\n",
    "$P(r)=\\frac{\\rho}{\\bar{m}}kT$\n",
    "\n",
    "$T(r)=\\frac{\\bar{m}}{\\rho k}P(r)$\n",
    "\n",
    "$T(r)=\\frac{2\\pi}{3}\\frac{\\bar{m}}{k}G\\rho(R^2-r^2)$$\n"
   ]
  },
  {
   "cell_type": "markdown",
   "metadata": {},
   "source": [
    "### c) \n",
    "\n",
    "$\\epsilon \\propto T^4$\n",
    "\n",
    "$\\epsilon(r)/\\epsilon_0= (R^2-r^2)^4$\n",
    "\n",
    "$\\epsilon(r)/\\epsilon_0= (1-\\frac{r}{R}^2)^4$\n",
    "\n",
    "What radius does the energy production rate decreast to 0.1 of its central value?\n",
    "\n",
    "$\\frac{r}{R}=\\sqrt{1-\\left(\\frac{\\epsilon(r)}{\\epsilon_0}\\right)^{\\frac{1}{4}}}$\n",
    "\n",
    "$\\frac{r}{R}=\\sqrt{1-(0.1)^{\\frac{1}{4}}}=0.662$\n",
    "\n",
    "$V\\propto r^3 = 0.662^3 = 0.290$\n",
    "\n",
    "29% of volume is within the radius where nuclear energy rate is above 10% of it's central value"
   ]
  },
  {
   "cell_type": "markdown",
   "metadata": {},
   "source": [
    "## Problem 6"
   ]
  },
  {
   "cell_type": "markdown",
   "metadata": {},
   "source": [
    "$M=10M_\\odot$\n",
    "\n",
    "fully ionized Carbon-12\n",
    "\n",
    "$T_c=6\\times 10^8 K$"
   ]
  },
  {
   "cell_type": "markdown",
   "metadata": {},
   "source": [
    "### a)\n",
    "\n",
    "Fully ionized carbon leads to 1 nucleus (of 6 protons and 6 neutrons) and 6 electrons\n",
    "\n",
    "$\\bar{m}=12m_p+6m_e/2$\n",
    "\n",
    "$m_e<<m_p$\n",
    "\n",
    "$\\bar{m}=\\frac{12}{7}m_p$"
   ]
  },
  {
   "cell_type": "markdown",
   "metadata": {},
   "source": [
    "### b)\n",
    "\n",
    "Virial\n",
    "\n",
    "$\\bar{P}=-\\frac{1}{3} \\frac{E_g}{V}$\n",
    "\n",
    "$V=\\frac{4\\pi}{3} R^3$\n",
    "\n",
    "$\\bar{P}=\\frac{GM^2}{4\\pi R^4}$\n",
    "\n",
    "Ideal Gas\n",
    " \n",
    "$\\frac{GM^2}{4\\pi R^4}=\\frac{\\bar{\\rho}}{\\bar{m}}k\\bar{T}$\n",
    "\n",
    "Solve for T and definition of density\n",
    "\n",
    "$T=\\frac{GM\\bar{m}}{3kR}$\n",
    "\n",
    "Compare to the Sun\n",
    "\n",
    "Sun mostly Hydrogen so $\\bar{m}_\\odot=1/2m_p$\n",
    "\n",
    "Nevermind, Eq. 3.73 more detailed $\\bar{m}_\\odot-0.61m_p$\n",
    "\n",
    "$\\frac{T}{T_\\odot}=\\frac{M\\bar{m}R_\\odot}{M_\\odot\\bar{m}_\\odot R}$\n",
    "\n",
    "Scaling of R with mass, partile mass, and core temp\n",
    "\n",
    "$R=\\frac{\\bar{m}}{\\bar{m}_\\odot}\\frac{M}{M_\\odot}\\frac{T_\\odot}{T}R_\\odot$\n",
    "\n",
    "$R=\\frac{12/7}{0.61}10\\frac{1.5}{60}$\n",
    "\n",
    "$R=0.70R_\\odot$"
   ]
  },
  {
   "cell_type": "markdown",
   "metadata": {},
   "source": [
    "### c)\n",
    "\n",
    "S-B law\n",
    "\n",
    "$T\\propto (L/r^2)^{1/4}$\n",
    "\n",
    "$\\frac{T}{T_\\odot}=\\left(\\frac{10^7}{0.7^2}\\right)^{1/4}$\n",
    "\n",
    "$T=67.2T_\\odot$\n",
    "\n",
    "Sun surface 6000K \n",
    "\n",
    "$T=40\\times10^5K$"
   ]
  },
  {
   "cell_type": "markdown",
   "metadata": {},
   "source": [
    "### d)\n",
    "\n",
    "$\\frac{\\Delta M}{M}=\\frac{24-23.985}{24}=6.3 \\times 10^{-4}$"
   ]
  },
  {
   "cell_type": "markdown",
   "metadata": {},
   "source": [
    "### e)\n",
    "\n",
    "Luminosity energy per second\n",
    "\n",
    "Energy over Luminosity gives a timescale\n",
    "\n",
    "Change in energy is change in Mass from d)\n",
    "\n",
    "10% of rest mass energy of star\n",
    "\n",
    "$t=\\frac{\\Delta M}{L}=\\frac{0.1 \\cdot 10 M_\\odot c^2 \\cdot 6.3\\times 10^{-4}}{10^7L_\\odot}$\n",
    "\n",
    "$t=3\\times10^{10}s/3600s/24hours/365days=951 years$"
   ]
  },
  {
   "cell_type": "code",
   "execution_count": null,
   "metadata": {
    "collapsed": true
   },
   "outputs": [],
   "source": []
  }
 ],
 "metadata": {
  "kernelspec": {
   "display_name": "Python 3",
   "language": "python",
   "name": "python3"
  },
  "language_info": {
   "codemirror_mode": {
    "name": "ipython",
    "version": 3
   },
   "file_extension": ".py",
   "mimetype": "text/x-python",
   "name": "python",
   "nbconvert_exporter": "python",
   "pygments_lexer": "ipython3",
   "version": "3.6.3"
  }
 },
 "nbformat": 4,
 "nbformat_minor": 2
}
