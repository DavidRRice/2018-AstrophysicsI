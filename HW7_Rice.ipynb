{
 "cells": [
  {
   "cell_type": "markdown",
   "metadata": {},
   "source": [
    "# David R. Rice\n",
    " ### Ast 713  |  HW 6\n",
    " \n",
    "### Ch. 6 Prob. 1, 3"
   ]
  },
  {
   "cell_type": "markdown",
   "metadata": {},
   "source": [
    "## Prob 1\n",
    "\n",
    "### a)\n",
    "\n",
    "This ones much easier to draw then to explain in words. https://www.paulanthonywilson.com/wp-content/uploads/2014/08/star-next-to-planet1.png\n",
    "\n",
    "Distance along line of sight is \"a\" one leg of right triangle\n",
    "\n",
    "Planets center is some fraction of the star's radius given by \"br\"\n",
    "\n",
    "These two quantities make the legs so are related to inclination by\n",
    "\n",
    "$cos(i)=br_*/a$\n",
    "\n",
    "Orbital velocity is $v=2\\pi a/\\tau$\n",
    "\n",
    "Approximate that $r_*<<a$ so don't need a sine small angle approximation\n",
    "\n",
    "length it must transverse given by $2r_*\\sqrt{1-b^2}$\n",
    "\n",
    "$t_{dur}=l/v=\\frac{r_*\\tau\\sqrt{1-b^2}}{\\pi a}$"
   ]
  },
  {
   "cell_type": "markdown",
   "metadata": {},
   "source": [
    "### b)\n",
    "\n",
    "Probability=solid angle of star where planet will cross/total solid angle (4pi)\n",
    "\n",
    "Grazing means perpendicular distance r_*+r_p\n",
    "\n",
    "$cos(\\theta)=(r_*+r_p)/a$\n",
    "\n",
    "2pi in azimuthal angle\n",
    "\n",
    "symmetry top and bottom *2\n",
    "\n",
    "$\\Omega=2\\cdot2\\pi\\cdot(r_*+r_p)/a$\n",
    "\n",
    "$\\Omega=4\\pi\\frac{r_*+r_p}{a}$\n",
    "\n",
    "$P_{tran}=\\frac{r_*+r_p}{a}$"
   ]
  },
  {
   "cell_type": "markdown",
   "metadata": {},
   "source": [
    "### c)\n",
    "\n",
    "5 transits 4 orbits between 2 and 21 days so Period is 19/4=4.75 days\n",
    "\n",
    "Kepler's Law \n",
    "\n",
    "$a=(GM\\tau^2/(4\\pi^2))^{1/3}=8.04\\times10^{11}cm=0.053AU$\n",
    "\n",
    "Duration is 0.485-0.515= 0.03 period = 0.142days\n",
    "\n",
    "Impact parameter from part a)\n",
    "\n",
    "$b=\\left(1-\\left(\\frac{\\pi a t_{dur}}{r_*\\tau}\\right)^2\\right)^{1/2}= 0.2$\n",
    "\n",
    "$cos(i)=br/a$   \n",
    "\n",
    "$i=89.1 deg$\n",
    "\n",
    "Transit Depth \n",
    "\n",
    "$\\Delta f/f=(r_p/r_*)^2=0.00025$\n",
    "\n",
    "$r_{p}=1.5\\times10^{-2}r_*=1.4r_\\oplus$\n",
    "\n",
    "RV data   $ v_1=1.6m/s$\n",
    "\n",
    "$M_p=(\\tau/2\\pi G)^{1/3}\\cdot v_1\\cdot M_1^{2/3}=2.3\\times10^{28}g=3.9M_\\oplus$\n",
    "\n",
    "$\\rho=M/V=6.9g/cm^{3}$\n",
    "\n",
    "Eq 6.3 Temperature\n",
    "\n",
    "$T_p=T_12^{-1/2}(1-A)^{1/4}(r_*/a)^{1/2}=1050K$"
   ]
  },
  {
   "cell_type": "markdown",
   "metadata": {},
   "source": [
    "## Prob 3\n",
    "\n",
    "$\\theta_E=(C*\\frac{D_{ls}}{D_{ol}D_{os}})^{1/2}$\n",
    "\n",
    "half way distance lense to observer and source to lens equal d\n",
    "\n",
    "distance observer to source 2d\n",
    "\n",
    "$\\theta_E=(C*\\frac{1}{2d})^{1/2}$\n",
    "\n",
    "$\\theta_E=\\left(\\frac{2GM}{c^2d}\\right)^{1/2}$\n",
    "\n",
    "Angular radius of lense = r/d\n",
    "\n",
    "$r/d=\\left(\\frac{2GM}{c^2d}\\right)^{1/2}$\n",
    "\n",
    "$d=\\frac{r^2c^2}{2GM}=1.5\\times10^{16}cm=0.0052 pc$"
   ]
  },
  {
   "cell_type": "code",
   "execution_count": null,
   "metadata": {
    "collapsed": true
   },
   "outputs": [],
   "source": []
  }
 ],
 "metadata": {
  "kernelspec": {
   "display_name": "Python 3",
   "language": "python",
   "name": "python3"
  },
  "language_info": {
   "codemirror_mode": {
    "name": "ipython",
    "version": 3
   },
   "file_extension": ".py",
   "mimetype": "text/x-python",
   "name": "python",
   "nbconvert_exporter": "python",
   "pygments_lexer": "ipython3",
   "version": "3.6.3"
  }
 },
 "nbformat": 4,
 "nbformat_minor": 2
}
